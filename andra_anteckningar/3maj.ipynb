{
 "cells": [
  {
   "cell_type": "markdown",
   "metadata": {},
   "source": [
    "# Set-baserad programmering"
   ]
  },
  {
   "cell_type": "markdown",
   "metadata": {},
   "source": [
    "- Python, java, c# med mera är procedual språk\n",
    "    - De beskriver hur något ska lösas\n",
    "- Set-baserade språk (så som SQL) säger VAD som ska göras, men inte hur.\n",
    "- Däremot i T-SQL så finns det sätt att skriva proceduellt.\n",
    "- Vi snackar alltså om if-satser osv\n",
    "- Används nästan aldrig då det är väldigt dåligt optimerat. Men kan vara använbart ibland."
   ]
  },
  {
   "cell_type": "markdown",
   "metadata": {},
   "source": [
    "Lite exempl syntax:"
   ]
  },
  {
   "cell_type": "code",
   "execution_count": null,
   "metadata": {
    "vscode": {
     "languageId": "sql"
    }
   },
   "outputs": [],
   "source": [
    "-- if else\n",
    "\n",
    "if exists (select 1 from people where id = @id)\n",
    "begin\n",
    "    print 'updating record';\n",
    "    update people set name = @name where id = @id;\n",
    "end\n",
    "else\n",
    "begin\n",
    "    print 'inserting record';\n",
    "    insert into people (id, name) values(@id, @name);\n",
    "end;"
   ]
  },
  {
   "cell_type": "code",
   "execution_count": null,
   "metadata": {
    "vscode": {
     "languageId": "sql"
    }
   },
   "outputs": [],
   "source": [
    "-- while\n",
    "\n",
    "declare @count int = 0;\n",
    "while @count <= 10\n",
    "begin\n",
    "    print 'Inserting row #' + convert(varchar, @count);\n",
    "    insert into testdata (id, data) values(@count, 'test');\n",
    "    set @count = @count + 1;\n",
    "end"
   ]
  },
  {
   "cell_type": "code",
   "execution_count": null,
   "metadata": {
    "vscode": {
     "languageId": "sql"
    }
   },
   "outputs": [],
   "source": [
    "-- cursors (fast_forward)\n",
    "\n",
    "declare @id int;\n",
    "declare @name varchar(100);\n",
    "\n",
    "declare myCursor CURSOR FAST_FORWARD for select id, name from people;\n",
    "\n",
    "open myCursor;\n",
    "\n",
    "fetch next from myCursor into @id, @name;\n",
    "\n",
    "while @@FETCH_STATUS = 0\n",
    "Begin\n",
    "    print convert(varchar, @id) + ' = ' + @name;\n",
    "    fetch next from myCursor into @id, @name;\n",
    "end;\n",
    "\n",
    "close myCursor;\n",
    "deallocate myCursor;"
   ]
  },
  {
   "cell_type": "markdown",
   "metadata": {},
   "source": [
    "### Problemet med loopar i SQL"
   ]
  },
  {
   "cell_type": "markdown",
   "metadata": {},
   "source": [
    "- När typ CRUD används så avgör SQL servern själv hur den ska hantera problemet på det effektivaste sättet. Det sker mycket under the hood.\n",
    "- Om vi själva skriver hur så kan vi ovetandes göra en mycket sämre och mycket långsammare process.\n",
    "- Syftet med relationsdatabaser är just att den ska kunna lösa mycket själv."
   ]
  },
  {
   "cell_type": "markdown",
   "metadata": {},
   "source": [
    "### Användbara fall"
   ]
  },
  {
   "cell_type": "markdown",
   "metadata": {},
   "source": [
    "- Genereara rader genom en loop (Fredriks demo)\n",
    "    - 50000 unika rader tog halva tiden om den kördes på serven istället för att skicka förfrågan till servern 50000 gånger.\n",
    "    - MEN att köra server-side SET based är fortfarande myycket snabbare.\n",
    "\n",
    "Hm, här slutade jag lyssna lite. Kolla om hans exempel. Tror kanske jag missförstod ovanstående."
   ]
  },
  {
   "cell_type": "markdown",
   "metadata": {},
   "source": [
    "### Lite serverbased set lösningar demo"
   ]
  },
  {
   "cell_type": "markdown",
   "metadata": {},
   "source": [
    "(lägger den i /sql/3maj.sql)"
   ]
  },
  {
   "cell_type": "markdown",
   "metadata": {},
   "source": [
    "### Sub-queries"
   ]
  },
  {
   "cell_type": "markdown",
   "metadata": {},
   "source": [
    "(lägger den i /sql/3maj.sql)"
   ]
  },
  {
   "cell_type": "markdown",
   "metadata": {},
   "source": [
    "### Vy (view)"
   ]
  },
  {
   "cell_type": "markdown",
   "metadata": {},
   "source": [
    "(lägger den i /sql/3maj.sql)"
   ]
  }
 ],
 "metadata": {
  "language_info": {
   "name": "python"
  }
 },
 "nbformat": 4,
 "nbformat_minor": 2
}
