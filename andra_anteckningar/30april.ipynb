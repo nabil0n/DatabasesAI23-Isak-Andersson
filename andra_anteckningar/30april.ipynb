{
 "cells": [
  {
   "cell_type": "markdown",
   "metadata": {},
   "source": [
    "# ACID-transaktioner\n",
    "\n",
    "https://www.ithsdistans.se/pluginfile.php/94922/mod_resource/content/0/ACID-Transaktioner.pdf"
   ]
  },
  {
   "cell_type": "markdown",
   "metadata": {},
   "source": [
    "- Atomicity\n",
    "- Consistency\n",
    "- Isolation\n",
    "- Durability"
   ]
  },
  {
   "cell_type": "markdown",
   "metadata": {},
   "source": [
    "ACID är en av de vanliga transaktionerna att använda i relationsdatabaser, det är överväldigande vanligast. Exemplet med att överföra pengar mellan konton: Det ska tas bort pengar från en tabell och läggas till på en annan.\n",
    "\n",
    "Detta sker automatiskt i en ACID databas, men vi som administrerar måste se till att veta vad det är och hur det funkar. Men alltså är implementerat av Microsoft och upprätthålls därifrån."
   ]
  },
  {
   "cell_type": "markdown",
   "metadata": {},
   "source": [
    "### Atomicity - Odelbarhet\n",
    "\n",
    "- Antingen utförs hela transaktionen, eller så händer inget alls.\n",
    "- Skulle något avbrytas mitt i så behöver allt rullas tillbaka som det va."
   ]
  },
  {
   "cell_type": "markdown",
   "metadata": {},
   "source": [
    "### Consistency - Inga inre motsägelser\n",
    "\n",
    "- Relationen mellan två tabeller måste stämma.\n",
    "- Integritetsvilkor, tillexempel som låsta datatyper. Kommer mer senare i kursen."
   ]
  },
  {
   "cell_type": "markdown",
   "metadata": {},
   "source": [
    "### Isolation - Parallella transaktioners isolering från varandra\n",
    "\n",
    "- Den andra transaktionens ändringar får inte visas förrän HELA den första är klar.\n",
    "- Transaktionerna görs i ordning oavsett om processen är time-slicad eller utdelad på fler kärnor.\n",
    "\n",
    "    - Exempel: *Antag att x = 5 och y = 100, och att vi har två\n",
    "transaktioner som körs parallellt. Om den andra\n",
    "transaktionen startar när den första precis sparat\n",
    "x, så kommer den läsa in det nya x-värdet, men\n",
    "det gamla y-värdet, eftersom transaktion 1 inte\n",
    "hunnit uppdatera det. Då skulle vi (felaktigt) få\n",
    "z = 500 + 100 = 600, istället för det förväntade z = 500 + 50 = 550.*"
   ]
  },
  {
   "cell_type": "markdown",
   "metadata": {},
   "source": [
    "### Durability - Hållbarhet\n",
    "\n",
    "- När en transaktion är korrekt genomförd måste alla uppdateringar och midfikationer lagras på ett *beständigt* sätt, typ på disk.\n",
    "- *När en transaktion är klar ska den finnas kvar i systemet på ett säkert sätt och inte kunna gå förlorad.*"
   ]
  },
  {
   "cell_type": "markdown",
   "metadata": {},
   "source": [
    "---\n",
    "### Commit och Rollback"
   ]
  },
  {
   "cell_type": "markdown",
   "metadata": {},
   "source": [
    "- Det är commit och rollback vi som admin använder.\n",
    "- Commit:\n",
    "    - Visar för hanteraren att transaktionen är klar i sin helhet och ska genomföras.\n",
    "    - Förändringarna skrivs till disk och är oåterkallerliga.\n",
    "- Rollback:\n",
    "    - Avbryt pågående transaktion och återgå till ursprungsdatan innan transaktionen påbörjades.\n",
    "    - Du kan rollbacka så länge du inte commitat.\n",
    "    - Inte en undo utan mer en \"gör inget\".\n",
    "- Båda dessa är beroende av en Begin Transaction\n",
    "\n",
    "Syntax exempel (hittepå-data):"
   ]
  },
  {
   "cell_type": "code",
   "execution_count": null,
   "metadata": {
    "vscode": {
     "languageId": "sql"
    }
   },
   "outputs": [],
   "source": [
    "BEGIN TRANSACTION;\n",
    "UPDATE Accounts SET amount = amount – 100 where id = 345234563;\n",
    "UPDATE Accounts SET amount = amount + 100 where id = 348754372;\n",
    "COMMIT;"
   ]
  },
  {
   "cell_type": "markdown",
   "metadata": {},
   "source": [
    "Om inte BEGIN TRANSACTION och COMMIT finns där de finns kommer båda UPDATE ses som varsinna COMMITS."
   ]
  },
  {
   "cell_type": "markdown",
   "metadata": {},
   "source": [
    "### Krasch och återställning\n",
    "\n",
    "- Avbrutna transaktioner tas bort, dvs Rollbackas.\n",
    "- Färdiga transaktioner måste kollas också. Detta finns i en Transaktionslogg.\n",
    "- För att återställening ska vara möjligt måste transaktionsinformationen skrivas till loggen först."
   ]
  },
  {
   "cell_type": "markdown",
   "metadata": {},
   "source": [
    "### Backup\n",
    "\n",
    "https://www.sqlshack.com/understanding-sql-server-backup-types/\n",
    "\n",
    "- Superviktigt.\n",
    "- Är databasen inställd med att den loggas som FULL så sparas all transaktionsdata i loggen, men i verkligeheten så är det verkligen inte alltid så.\n",
    "\n",
    "exempel från sidan"
   ]
  },
  {
   "cell_type": "code",
   "execution_count": null,
   "metadata": {
    "vscode": {
     "languageId": "sql"
    }
   },
   "outputs": [],
   "source": [
    "-- Full backup\n",
    "\n",
    "BACKUP DATABASE [namnet på databasen]\n",
    "To Disk='filepath.bak'\n",
    "with FORMAT,\n",
    "    MEDIANAME='Z_SQLServerBackups',\n",
    "    NAME='Full Backup of [namnet på databasen]';"
   ]
  },
  {
   "cell_type": "markdown",
   "metadata": {},
   "source": [
    "(från exemplet)\n",
    "Full körs varje vecka"
   ]
  },
  {
   "cell_type": "code",
   "execution_count": null,
   "metadata": {
    "vscode": {
     "languageId": "sql"
    }
   },
   "outputs": [],
   "source": [
    "-- Differential backup\n",
    "\n",
    "BACKUP DATABASE [namnet på databasen]\n",
    "To Disk='filepath.bak'\n",
    "with DIFFERENTIAL,\n",
    "    MEDIANAME='Z_SQLServerBackups',\n",
    "    NAME='Differential Backup of [namnet på databasen]';"
   ]
  },
  {
   "cell_type": "markdown",
   "metadata": {},
   "source": [
    "diff körs varje dag"
   ]
  },
  {
   "cell_type": "code",
   "execution_count": null,
   "metadata": {
    "vscode": {
     "languageId": "sql"
    }
   },
   "outputs": [],
   "source": [
    "-- Transaction log backup\n",
    "\n",
    "BACKUP LOG [namnet på databasen]\n",
    "To Disk='filepath.bak'\n",
    "with MEDIANAME='Z_SQLServerBackups',\n",
    "    NAME='Transaction Log Backup of [namnet på databasen]';"
   ]
  },
  {
   "cell_type": "markdown",
   "metadata": {},
   "source": [
    "transaction log körs varje timma"
   ]
  },
  {
   "cell_type": "code",
   "execution_count": null,
   "metadata": {
    "vscode": {
     "languageId": "sql"
    }
   },
   "outputs": [],
   "source": [
    "-- Tail-log backup\n",
    "\n",
    "BACKUP LOG [namnet på databasen]\n",
    "To Disk='filepath.bak'\n",
    "with CONTINUE_AFTER_ERROR"
   ]
  },
  {
   "cell_type": "markdown",
   "metadata": {},
   "source": [
    "### Lås och block\n",
    "\n",
    "- "
   ]
  },
  {
   "cell_type": "markdown",
   "metadata": {},
   "source": [
    "### Deadlocks\n",
    "\n",
    "- "
   ]
  }
 ],
 "metadata": {
  "language_info": {
   "name": "python"
  }
 },
 "nbformat": 4,
 "nbformat_minor": 2
}
