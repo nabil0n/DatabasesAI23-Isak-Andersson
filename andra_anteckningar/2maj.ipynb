{
 "cells": [
  {
   "cell_type": "markdown",
   "metadata": {},
   "source": [
    "# Dataintegritet"
   ]
  },
  {
   "cell_type": "markdown",
   "metadata": {},
   "source": [
    "### Integritetsvilkor och normalisering\n",
    "- Datan hänger ihop på ett bra sätt utan massa felaktigheter och luckor eller motsägelser."
   ]
  },
  {
   "cell_type": "markdown",
   "metadata": {},
   "source": [
    "### Constraints - (intergitetsvilkor)"
   ]
  },
  {
   "cell_type": "markdown",
   "metadata": {},
   "source": [
    "Exempel på constraints\n",
    "- **notNULL** , talar om att kolumner inte tillåter NULL värden.\n",
    "- **Unique** , talar för sig självt. Alla värden i en kolumn måste vara unika. Kan finnas flera.\n",
    "- **primary key** , vilken kolumn som används för att specifiera en viss rad. Kan bara finnas en. (kan vara en composit av fler kolumner) (är automatiskt notNull och unique)\n",
    "- **foreign key** , talar om om en kolumn är relaterad till en annan tabells primär nyckel. Kan ha flera.\n",
    "- **Check** , check condition, ett vilkor måste gälla för att datan ska anses som godkänt.\n",
    "- **Default** , ett värde kommer alltid att antas om man inte anger något annat."
   ]
  },
  {
   "cell_type": "code",
   "execution_count": null,
   "metadata": {
    "vscode": {
     "languageId": "sql"
    }
   },
   "outputs": [],
   "source": [
    "create table constraintsdemo (\n",
    "    id int primary key identity(1,1),\n",
    "    allowsnull int null,\n",
    "    notnull int not null,\n",
    "    uniqueconstraint int unique,\n",
    "    checkconstraint nvarchar(11) check(checkconstraint like concat(replicate('[0-9]', 6), '-', replicate('[0-9]', 4))),\n",
    "    foreignkeyconstraint int references constraintsdemo(id),\n",
    "    defaultconstraint int default 0\n",
    ");"
   ]
  },
  {
   "cell_type": "markdown",
   "metadata": {},
   "source": [
    "### Triggers"
   ]
  },
  {
   "cell_type": "markdown",
   "metadata": {},
   "source": [
    "- "
   ]
  },
  {
   "cell_type": "markdown",
   "metadata": {},
   "source": [
    "### Databasstruktur\n",
    "\n",
    "Grundregel: **en typ av entitet per tabell och en sådan entitet per rad.**\n",
    "\n",
    "funktionellt beroende (A -> B) innebär att värdet i en kolumn alltid kommer ge samma värde för en annan kolumn."
   ]
  },
  {
   "cell_type": "markdown",
   "metadata": {},
   "source": [
    "#### Normalisering\n",
    "\n",
    "Best praxis - regler\n",
    "\n",
    "- 1, 2 och 3 NF bygger på varandra\n",
    "    - 1NF\n",
    "        - Säger att tabellen ska bara innehålla *atomära* värden, alltså bara ett värde i varje cell. Det enda kravet för 1NF.\n",
    "        - *GÖR EJ* **\"stad1,stad2\"**, *GÖR* **| stad1 | land2 |** Eller ännu hellre foreign key.\n",
    "    - 2NF\n",
    "        - Måste uppfylla 1NF. *Men även:*\n",
    "        - Inga partiella beroenden - alla värden (icke-nycklar) beror på helheten av varje primärnyckel\n",
    "    - 3NF\n",
    "        - Måste uppfylla både 1NF och 2NF. *Men även:*\n",
    "        - inget ”icke nyckel”-attribut får vara beroende av något annat ”icke nyckel”-attribut."
   ]
  },
  {
   "cell_type": "markdown",
   "metadata": {},
   "source": [
    "Från powerpointen:\n",
    "\n",
    "*Sammanfattningsvis är ett gott råd när man designar databaser att tänka: **varje attribut ska representera en fakta om nyckeln, hela nyckeln, och inget annat än nyckeln.***"
   ]
  }
 ],
 "metadata": {
  "language_info": {
   "name": "python"
  }
 },
 "nbformat": 4,
 "nbformat_minor": 2
}
