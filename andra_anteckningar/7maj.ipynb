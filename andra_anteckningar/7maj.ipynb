{
 "cells": [
  {
   "cell_type": "markdown",
   "metadata": {},
   "source": [
    "# Mer SQL-Alchemy\n",
    "\n",
    "Några länkar:\n",
    "- https://docs.sqlalchemy.org/en/14/tutorial/metadata.html#tutorial-working-with-metadata\n",
    "- https://docs.sqlalchemy.org/en/14/tutorial/data.html\n",
    "- https://docs.sqlalchemy.org/en/14/tutorial/dbapi_transactions.html#tutorial-working-with-transactions"
   ]
  },
  {
   "cell_type": "markdown",
   "metadata": {},
   "source": []
  },
  {
   "cell_type": "code",
   "execution_count": null,
   "metadata": {
    "vscode": {
     "languageId": "plaintext"
    }
   },
   "outputs": [],
   "source": [
    "engine.connect # är mer för SELECT även om det går att committa, men rollbackas alltid automatiskt annars\n",
    "\n",
    "engine.begin # committar det inuti automatiskt."
   ]
  }
 ],
 "metadata": {
  "language_info": {
   "name": "python"
  }
 },
 "nbformat": 4,
 "nbformat_minor": 2
}
