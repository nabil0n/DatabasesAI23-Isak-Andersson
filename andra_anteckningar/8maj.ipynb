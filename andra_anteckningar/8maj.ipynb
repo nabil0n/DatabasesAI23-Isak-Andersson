{
 "cells": [
  {
   "cell_type": "markdown",
   "metadata": {},
   "source": [
    "# Användare & Rättigheter"
   ]
  },
  {
   "cell_type": "markdown",
   "metadata": {},
   "source": [
    "- i connection_string så behöver vi vår ODBCdriver, vårt servernamn, användarnamn, databasnamn och **trusted_connection=yes**\n",
    "- undvik att ge fulla rättigheter i en aplikation.\n",
    "- "
   ]
  },
  {
   "cell_type": "markdown",
   "metadata": {},
   "source": [
    "roller:\n",
    "https://learn.microsoft.com/en-us/sql/relational-databases/security/authentication-access/database-level-roles?view=sql-server-ver16"
   ]
  }
 ],
 "metadata": {
  "language_info": {
   "name": "python"
  }
 },
 "nbformat": 4,
 "nbformat_minor": 2
}
