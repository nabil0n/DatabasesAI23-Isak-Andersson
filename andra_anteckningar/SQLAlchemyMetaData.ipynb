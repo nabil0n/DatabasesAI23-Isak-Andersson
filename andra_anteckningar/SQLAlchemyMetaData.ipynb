{
 "cells": [
  {
   "cell_type": "markdown",
   "metadata": {},
   "source": [
    "# Establishing a database connection"
   ]
  },
  {
   "cell_type": "code",
   "execution_count": 1,
   "metadata": {},
   "outputs": [
    {
     "name": "stdout",
     "output_type": "stream",
     "text": [
      "Connecting to database using URL string:\n",
      "mssql+pyodbc://?odbc_connect=DRIVER=ODBC+Driver+17+for+SQL+Server;SERVER=localhost;DATABASE=everyloop;Trusted_Connection=yes \n",
      "\n",
      "Successfully connected to everyloop!\n"
     ]
    }
   ],
   "source": [
    "from sqlalchemy import create_engine\n",
    "from sqlalchemy.engine import URL\n",
    "from urllib.parse import unquote\n",
    "import os\n",
    "from dotenv import load_dotenv\n",
    "\n",
    "load_dotenv()\n",
    "\n",
    "server_name   = os.getenv('server_name')\n",
    "database_name = os.getenv('database_name')\n",
    "\n",
    "connection_string = f\"DRIVER=ODBC Driver 17 for SQL Server;SERVER={server_name};DATABASE={database_name};Trusted_Connection=yes\"\n",
    "url_string        = URL.create(\"mssql+pyodbc\", query={\"odbc_connect\": connection_string})\n",
    "\n",
    "print('Connecting to database using URL string:')\n",
    "unquoted_url = unquote(str(url_string))\n",
    "print(unquoted_url, '\\n')\n",
    "\n",
    "try:    \n",
    "    engine = create_engine(url_string)\n",
    "    with engine.connect() as connection:\n",
    "        print(f'Successfully connected to {database_name}!')\n",
    "except Exception as e:\n",
    "    print('Error while connecting to database:\\n')\n",
    "    print(e)"
   ]
  },
  {
   "cell_type": "markdown",
   "metadata": {},
   "source": [
    "# Setting up MetaData and declare tables"
   ]
  },
  {
   "cell_type": "code",
   "execution_count": 7,
   "metadata": {},
   "outputs": [
    {
     "name": "stdout",
     "output_type": "stream",
     "text": [
      "Table: pythonUsers\n",
      "id             INTEGER\n",
      "username       VARCHAR(30)\n",
      "password       VARCHAR\n",
      "server_id      INTEGER\n",
      "\n",
      "Table: pythonServers\n",
      "id             INTEGER\n",
      "servername     VARCHAR\n",
      "IP             VARCHAR(15)\n",
      "\n"
     ]
    }
   ],
   "source": [
    "from sqlalchemy import MetaData, Table, Column, Integer, String, ForeignKey\n",
    "metadata_obj = MetaData()\n",
    "\n",
    "user_table = Table(\n",
    "    \"pythonUsers\",\n",
    "    metadata_obj,\n",
    "    Column(\"id\", Integer, primary_key=True),\n",
    "    Column(\"username\", String(30)),\n",
    "    Column(\"password\", String),\n",
    "    Column(\"server_id\", ForeignKey('pythonServers.id'), nullable=False)\n",
    ")\n",
    "\n",
    "server_table = Table(\n",
    "    \"pythonServers\",\n",
    "    metadata_obj,\n",
    "    Column(\"id\", Integer, primary_key=True),\n",
    "    Column(\"servername\", String),\n",
    "    Column(\"IP\", String(15))\n",
    ")\n",
    "\n",
    "for name, table in metadata_obj.tables.items():\n",
    "    print(f\"Table: {name}\")\n",
    "\n",
    "    for column in table.c:\n",
    "        print(f\"{column.name.ljust(15)}{column.type}\")\n",
    "\n",
    "    print()"
   ]
  },
  {
   "cell_type": "markdown",
   "metadata": {},
   "source": [
    "# Create all metadata tables"
   ]
  },
  {
   "cell_type": "code",
   "execution_count": 8,
   "metadata": {},
   "outputs": [
    {
     "name": "stdout",
     "output_type": "stream",
     "text": [
      "Created tables:\n",
      "pythonUsers\n",
      "pythonServers\n"
     ]
    }
   ],
   "source": [
    "metadata_obj.create_all(engine)\n",
    "\n",
    "print(\"Created tables:\")\n",
    "\n",
    "for table in metadata_obj.tables:\n",
    "    print(table)"
   ]
  },
  {
   "cell_type": "markdown",
   "metadata": {},
   "source": [
    "# Drop all metadata tables"
   ]
  },
  {
   "cell_type": "code",
   "execution_count": 6,
   "metadata": {},
   "outputs": [
    {
     "name": "stdout",
     "output_type": "stream",
     "text": [
      "Dropped tables:\n",
      "pythonUsers\n",
      "pythonServers\n"
     ]
    }
   ],
   "source": [
    "metadata_obj.drop_all(engine)\n",
    "\n",
    "print(\"Dropped tables:\")\n",
    "\n",
    "for table in metadata_obj.tables:\n",
    "    print(table)"
   ]
  },
  {
   "cell_type": "markdown",
   "metadata": {},
   "source": [
    "# Insert server data (multiple rows)"
   ]
  },
  {
   "cell_type": "code",
   "execution_count": 9,
   "metadata": {},
   "outputs": [
    {
     "name": "stdout",
     "output_type": "stream",
     "text": [
      "Mario          192.168.0.23\n",
      "Luigi          192.168.0.185\n",
      "Yoshi          192.168.0.15\n",
      "Bowser         192.168.0.97\n",
      "INSERT INTO \"pythonServers\" (id, servername, \"IP\") VALUES (:id, :servername, :IP)\n"
     ]
    }
   ],
   "source": [
    "from sqlalchemy import insert\n",
    "import random, string\n",
    "\n",
    "servers = [\n",
    "    {\"servername\": \"Mario\", \"IP\": \"192.168.0.23\"},\n",
    "    {\"servername\": \"Luigi\", \"IP\": \"192.168.0.185\"},\n",
    "    {\"servername\": \"Yoshi\", \"IP\": \"192.168.0.15\"},\n",
    "    {\"servername\": \"Bowser\", \"IP\": \"192.168.0.97\"},\n",
    "]\n",
    "\n",
    "for server in servers:\n",
    "    print(f\"{server['servername'].ljust(15)}{server['IP']}\")\n",
    "\n",
    "statement = insert(server_table)\n",
    "print(statement)\n",
    "\n",
    "with engine.begin() as conn:\n",
    "    conn.execute(statement, servers)"
   ]
  },
  {
   "cell_type": "markdown",
   "metadata": {},
   "source": [
    "# Insert user data (single row)"
   ]
  },
  {
   "cell_type": "code",
   "execution_count": 22,
   "metadata": {},
   "outputs": [
    {
     "name": "stdout",
     "output_type": "stream",
     "text": [
      "INSERT INTO \"pythonUsers\" (username, password, server_id) VALUES (:username, :password, :server_id)\n",
      "{'username': 'LarsLasseK', 'password': 'WB0KYv2uuQ', 'server_id': 4}\n",
      "primary key value = 13\n"
     ]
    }
   ],
   "source": [
    "from sqlalchemy import insert\n",
    "import random, string\n",
    "\n",
    "username = input('Enter username:')\n",
    "password = ''.join(random.choice(string.ascii_letters + string.digits) for i in range(10))\n",
    "server_id = random.randint(1, 4)\n",
    "\n",
    "statement = insert(user_table).values(username=username, password=password, server_id=server_id)\n",
    "\n",
    "print(statement)\n",
    "print(statement.compile().params)\n",
    "\n",
    "with engine.begin() as conn:\n",
    "    result = conn.execute(statement)\n",
    "    print(f\"primary key value = {result.inserted_primary_key[0]}\")"
   ]
  },
  {
   "cell_type": "markdown",
   "metadata": {},
   "source": [
    "# Select queries\n",
    "In order to generate select queries we must first import select()"
   ]
  },
  {
   "cell_type": "code",
   "execution_count": 23,
   "metadata": {},
   "outputs": [],
   "source": [
    "from sqlalchemy import select"
   ]
  },
  {
   "cell_type": "markdown",
   "metadata": {},
   "source": [
    "Below are a few example of select queries:\n",
    "\n",
    "### Select full table data"
   ]
  },
  {
   "cell_type": "code",
   "execution_count": 24,
   "metadata": {},
   "outputs": [
    {
     "name": "stdout",
     "output_type": "stream",
     "text": [
      "SELECT \"pythonUsers\".id, \"pythonUsers\".username, \"pythonUsers\".password, \"pythonUsers\".server_id \n",
      "FROM \"pythonUsers\"\n"
     ]
    }
   ],
   "source": [
    "query = select(user_table)\n",
    "print(query)"
   ]
  },
  {
   "cell_type": "markdown",
   "metadata": {},
   "source": [
    "### Projection"
   ]
  },
  {
   "cell_type": "code",
   "execution_count": 35,
   "metadata": {},
   "outputs": [
    {
     "name": "stdout",
     "output_type": "stream",
     "text": [
      "SELECT \"pythonUsers\".username, \"pythonUsers\".password, :username_1 || \"pythonUsers\".username || :param_1 AS greeting \n",
      "FROM \"pythonUsers\"\n",
      "\n",
      "{'username_1': 'Hi ', 'param_1': '!'}\n"
     ]
    }
   ],
   "source": [
    "query = select(user_table.c.username, user_table.c.password, (\"Hi \" + user_table.c.username + \"!\").label('greeting'))\n",
    "print(f\"{query}\\n\\n{query.compile().params}\")"
   ]
  },
  {
   "cell_type": "markdown",
   "metadata": {},
   "source": [
    "### Selection"
   ]
  },
  {
   "cell_type": "code",
   "execution_count": 39,
   "metadata": {},
   "outputs": [
    {
     "name": "stdout",
     "output_type": "stream",
     "text": [
      "SELECT \"pythonUsers\".id, \"pythonUsers\".username, \"pythonUsers\".password, \"pythonUsers\".server_id \n",
      "FROM \"pythonUsers\" \n",
      "WHERE \"pythonUsers\".username = :username_1\n",
      "\n",
      "{'username_1': 'Petter'}\n"
     ]
    }
   ],
   "source": [
    "query = select(user_table).where(user_table.c.username == 'Petter')\n",
    "print(f\"{query}\\n\\n{query.compile().params}\")"
   ]
  },
  {
   "cell_type": "markdown",
   "metadata": {},
   "source": [
    "### Order by"
   ]
  },
  {
   "cell_type": "code",
   "execution_count": 41,
   "metadata": {},
   "outputs": [
    {
     "name": "stdout",
     "output_type": "stream",
     "text": [
      "SELECT \"pythonUsers\".id, \"pythonUsers\".username, \"pythonUsers\".password, \"pythonUsers\".server_id \n",
      "FROM \"pythonUsers\" ORDER BY \"pythonUsers\".username ASC\n",
      " LIMIT :param_1\n"
     ]
    }
   ],
   "source": [
    "query = select(user_table).order_by(user_table.c.username.asc()).limit(3)\n",
    "print(query)"
   ]
  },
  {
   "cell_type": "markdown",
   "metadata": {},
   "source": [
    "### Joining tables"
   ]
  },
  {
   "cell_type": "code",
   "execution_count": 37,
   "metadata": {},
   "outputs": [
    {
     "name": "stdout",
     "output_type": "stream",
     "text": [
      "SELECT \"pythonUsers\".id, \"pythonUsers\".username, \"pythonServers\".servername \n",
      "FROM \"pythonUsers\" JOIN \"pythonServers\" ON \"pythonServers\".id = \"pythonUsers\".server_id\n"
     ]
    }
   ],
   "source": [
    "query = select(user_table.c.id, user_table.c.username, server_table.c.servername).join_from(user_table, server_table)\n",
    "print(query)"
   ]
  },
  {
   "cell_type": "markdown",
   "metadata": {},
   "source": [
    "### Grouping and aggregation"
   ]
  },
  {
   "cell_type": "code",
   "execution_count": 71,
   "metadata": {},
   "outputs": [
    {
     "name": "stdout",
     "output_type": "stream",
     "text": [
      "SELECT \"pythonServers\".servername, \"pythonServers\".\"IP\", count(\"pythonUsers\".id) AS \"Number of users\" \n",
      "FROM \"pythonUsers\" JOIN \"pythonServers\" ON \"pythonServers\".id = \"pythonUsers\".server_id GROUP BY \"pythonServers\".servername, \"pythonServers\".\"IP\"\n"
     ]
    }
   ],
   "source": [
    "from sqlalchemy import func\n",
    "\n",
    "query = (\n",
    "    select(server_table.c.servername, server_table.c.IP, func.count(user_table.c.id).label('Number of users'))\n",
    "    .join_from(user_table, server_table)\n",
    "    .group_by(server_table.c.servername, server_table.c.IP)\n",
    ")\n",
    "\n",
    "print(query)"
   ]
  },
  {
   "cell_type": "markdown",
   "metadata": {},
   "source": [
    "# Fetch data"
   ]
  },
  {
   "cell_type": "code",
   "execution_count": 72,
   "metadata": {},
   "outputs": [
    {
     "name": "stdout",
     "output_type": "stream",
     "text": [
      "SELECT \"pythonServers\".servername, \"pythonServers\".\"IP\", count(\"pythonUsers\".id) AS \"Number of users\" \n",
      "FROM \"pythonUsers\" JOIN \"pythonServers\" ON \"pythonServers\".id = \"pythonUsers\".server_id GROUP BY \"pythonServers\".servername, \"pythonServers\".\"IP\"\n",
      "\n",
      "{}\n",
      "\n",
      "SERVERNAME           IP                   NUMBER OF USERS      \n",
      "Yoshi                192.168.0.15         1                    \n",
      "Luigi                192.168.0.185        3                    \n",
      "Mario                192.168.0.23         2                    \n",
      "Bowser               192.168.0.97         7                    \n"
     ]
    }
   ],
   "source": [
    "print(f\"{query}\\n\\n{query.compile().params}\\n\")\n",
    "\n",
    "with engine.connect() as conn:\n",
    "    result = conn.execute(query)\n",
    "    \n",
    "    for column_name in result.keys():\n",
    "        print(column_name.upper().ljust(20), end=' ')\n",
    "    \n",
    "    print()\n",
    "\n",
    "    for row in result:\n",
    "        for field in row:\n",
    "            print(str(field).ljust(20), end=' ')\n",
    "        \n",
    "        print()"
   ]
  },
  {
   "cell_type": "code",
   "execution_count": 73,
   "metadata": {},
   "outputs": [],
   "source": [
    "import pandas as pd\n",
    "\n",
    "df = pd.read_sql_query(query, con=engine, index_col=\"servername\").drop(columns='Number of users', inplace=True)\n",
    "\n",
    "df"
   ]
  },
  {
   "cell_type": "code",
   "execution_count": 74,
   "metadata": {},
   "outputs": [
    {
     "ename": "AttributeError",
     "evalue": "'NoneType' object has no attribute 'to_sql'",
     "output_type": "error",
     "traceback": [
      "\u001b[1;31m---------------------------------------------------------------------------\u001b[0m",
      "\u001b[1;31mAttributeError\u001b[0m                            Traceback (most recent call last)",
      "Cell \u001b[1;32mIn[74], line 1\u001b[0m\n\u001b[1;32m----> 1\u001b[0m \u001b[43mdf\u001b[49m\u001b[38;5;241;43m.\u001b[39;49m\u001b[43mto_sql\u001b[49m(\u001b[38;5;124m\"\u001b[39m\u001b[38;5;124mpythonServers\u001b[39m\u001b[38;5;124m\"\u001b[39m, con\u001b[38;5;241m=\u001b[39mengine, if_exists\u001b[38;5;241m=\u001b[39m\u001b[38;5;124m\"\u001b[39m\u001b[38;5;124mappend\u001b[39m\u001b[38;5;124m\"\u001b[39m)\n",
      "\u001b[1;31mAttributeError\u001b[0m: 'NoneType' object has no attribute 'to_sql'"
     ]
    }
   ],
   "source": [
    "df.to_sql(\"pythonServers\", con=engine, if_exists=\"append\")"
   ]
  },
  {
   "cell_type": "markdown",
   "metadata": {},
   "source": [
    "# Table reflection"
   ]
  },
  {
   "cell_type": "code",
   "execution_count": 66,
   "metadata": {},
   "outputs": [
    {
     "name": "stdout",
     "output_type": "stream",
     "text": [
      "Name                NVARCHAR(20) COLLATE \"Finnish_Swedish_CI_AS\"\n",
      "Code                NVARCHAR(7) COLLATE \"Finnish_Swedish_CI_AS\"\n",
      "Red                 INTEGER\n",
      "Green               INTEGER\n",
      "Blue                INTEGER\n"
     ]
    }
   ],
   "source": [
    "reflected_table = Table(\"colors\", metadata_obj, autoload_with=engine)\n",
    "\n",
    "for column in reflected_table.c:\n",
    "    print(f\"{column.name.ljust(20)}{column.type}\")\n"
   ]
  },
  {
   "cell_type": "markdown",
   "metadata": {},
   "source": [
    "### Query reflected table"
   ]
  },
  {
   "cell_type": "code",
   "execution_count": 67,
   "metadata": {},
   "outputs": [
    {
     "name": "stdout",
     "output_type": "stream",
     "text": [
      "SELECT colors.\"Name\", colors.\"Code\", colors.\"Red\", colors.\"Green\", colors.\"Blue\" \n",
      "FROM colors\n",
      " LIMIT :param_1\n",
      "\n",
      "{'param_1': 10}\n",
      "\n"
     ]
    }
   ],
   "source": [
    "query = select(reflected_table).limit(10)\n",
    "print(f\"{query}\\n\\n{query.compile().params}\\n\")"
   ]
  }
 ],
 "metadata": {
  "interpreter": {
   "hash": "20a7226863652f8ba572b8157b0b6305f423aae4f16ee7c5077a4756a16dc3cf"
  },
  "kernelspec": {
   "display_name": "Python 3.9.0 ('Learning_Python-3NYKqp0N')",
   "language": "python",
   "name": "python3"
  },
  "language_info": {
   "codemirror_mode": {
    "name": "ipython",
    "version": 3
   },
   "file_extension": ".py",
   "mimetype": "text/x-python",
   "name": "python",
   "nbconvert_exporter": "python",
   "pygments_lexer": "ipython3",
   "version": "3.12.0"
  },
  "orig_nbformat": 4
 },
 "nbformat": 4,
 "nbformat_minor": 2
}
