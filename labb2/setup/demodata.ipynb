{
 "cells": [
  {
   "cell_type": "markdown",
   "metadata": {},
   "source": [
    "### Labb 2 - SQLAlchemy\n",
    "# Demodata"
   ]
  },
  {
   "cell_type": "markdown",
   "metadata": {},
   "source": [
    "Ansluter till vår databas:"
   ]
  },
  {
   "cell_type": "code",
   "execution_count": 1,
   "metadata": {},
   "outputs": [
    {
     "name": "stdout",
     "output_type": "stream",
     "text": [
      "Connecting to database using URL string:\n",
      "mssql+pyodbc://?odbc_connect=DRIVER=ODBC+Driver+17+for+SQL+Server;SERVER=localhost;DATABASE=labb2;Trusted_Connection=yes \n",
      "\n",
      "Successfully connected to labb2!\n"
     ]
    }
   ],
   "source": [
    "from sqlalchemy import create_engine\n",
    "from sqlalchemy.engine import URL\n",
    "from urllib.parse import unquote\n",
    "\n",
    "server_name   = 'localhost'\n",
    "database_name = 'labb2'\n",
    "\n",
    "connection_string = f\"DRIVER=ODBC Driver 17 for SQL Server;SERVER={server_name};DATABASE={database_name};Trusted_Connection=yes\"\n",
    "url_string        = URL.create(\"mssql+pyodbc\", query={\"odbc_connect\": connection_string})\n",
    "\n",
    "print('Connecting to database using URL string:')\n",
    "unquoted_url = unquote(str(url_string))\n",
    "print(unquoted_url, '\\n')\n",
    "\n",
    "try:    \n",
    "    engine = create_engine(url_string)\n",
    "    with engine.connect() as connection:\n",
    "        print(f'Successfully connected to {database_name}!')\n",
    "except Exception as e:\n",
    "    print('Error while connecting to database:\\n')\n",
    "    print(e)"
   ]
  },
  {
   "cell_type": "markdown",
   "metadata": {},
   "source": [
    "Rengör Kaggle-data:\n",
    " - (https://www.kaggle.com/datasets/uzair01/amazon-books)\n",
    " - Tar bort tomma kolumner\n",
    " - Tar bort kolumner jag inte vill använda\n",
    " - formaterar isbn13 till ett sätt jag vill ha det\n",
    " - Randomiserar fram födelsedagar och review_count då review_count hade lustig formatering\n",
    " - sätter *ett* språk då alla var på engelska\n",
    " - Skapar index\n",
    " - Korrigerar datatyper\n",
    " - Ersatte NaN med random data i flera kolumner"
   ]
  },
  {
   "cell_type": "code",
   "execution_count": 2,
   "metadata": {},
   "outputs": [
    {
     "name": "stderr",
     "output_type": "stream",
     "text": [
      "C:\\Users\\isaka\\AppData\\Local\\Temp\\ipykernel_12692\\3086356032.py:60: FutureWarning: A value is trying to be set on a copy of a DataFrame or Series through chained assignment using an inplace method.\n",
      "The behavior will change in pandas 3.0. This inplace method will never work because the intermediate object on which we are setting values always behaves as a copy.\n",
      "\n",
      "For example, when doing 'df[col].method(value, inplace=True)', try using 'df.method({col: value}, inplace=True)' or df[col] = df[col].method(value) instead, to perform the operation inplace on the original object.\n",
      "\n",
      "\n",
      "  df['publish_date'].replace({pd.NaT: pd.to_datetime('1999-09-09')}, inplace=True)\n"
     ]
    },
    {
     "data": {
      "text/html": [
       "<div>\n",
       "<style scoped>\n",
       "    .dataframe tbody tr th:only-of-type {\n",
       "        vertical-align: middle;\n",
       "    }\n",
       "\n",
       "    .dataframe tbody tr th {\n",
       "        vertical-align: top;\n",
       "    }\n",
       "\n",
       "    .dataframe thead th {\n",
       "        text-align: right;\n",
       "    }\n",
       "</style>\n",
       "<table border=\"1\" class=\"dataframe\">\n",
       "  <thead>\n",
       "    <tr style=\"text-align: right;\">\n",
       "      <th></th>\n",
       "      <th>title</th>\n",
       "      <th>author</th>\n",
       "      <th>isbn13</th>\n",
       "      <th>publish_date</th>\n",
       "      <th>rating</th>\n",
       "      <th>review_count</th>\n",
       "      <th>price</th>\n",
       "      <th>author_ID</th>\n",
       "      <th>language</th>\n",
       "      <th>author_birthdate</th>\n",
       "    </tr>\n",
       "  </thead>\n",
       "  <tbody>\n",
       "    <tr>\n",
       "      <th>0</th>\n",
       "      <td>The Staff Engineer's Path</td>\n",
       "      <td>Tanya Reilly</td>\n",
       "      <td>978-1-09811-873-0</td>\n",
       "      <td>2022-10-25</td>\n",
       "      <td>4.7</td>\n",
       "      <td>345</td>\n",
       "      <td>31.99</td>\n",
       "      <td>0</td>\n",
       "      <td>English</td>\n",
       "      <td>1972-09-02</td>\n",
       "    </tr>\n",
       "    <tr>\n",
       "      <th>1</th>\n",
       "      <td>Cracking the Coding Interview</td>\n",
       "      <td>Gayle Laakmann McDowell</td>\n",
       "      <td>978-0-98478-285-7</td>\n",
       "      <td>2015-07-01</td>\n",
       "      <td>4.7</td>\n",
       "      <td>20</td>\n",
       "      <td>33.21</td>\n",
       "      <td>1</td>\n",
       "      <td>English</td>\n",
       "      <td>1962-04-05</td>\n",
       "    </tr>\n",
       "    <tr>\n",
       "      <th>2</th>\n",
       "      <td>Python Crash Course, 3rd Edition</td>\n",
       "      <td>Eric Matthes</td>\n",
       "      <td>978-1-71850-270-3</td>\n",
       "      <td>2023-01-10</td>\n",
       "      <td>4.8</td>\n",
       "      <td>615</td>\n",
       "      <td>30.61</td>\n",
       "      <td>2</td>\n",
       "      <td>English</td>\n",
       "      <td>1980-06-05</td>\n",
       "    </tr>\n",
       "    <tr>\n",
       "      <th>3</th>\n",
       "      <td>The Pragmatic Programmer</td>\n",
       "      <td>David Thomas</td>\n",
       "      <td>978-0-13595-705-9</td>\n",
       "      <td>2019-09-13</td>\n",
       "      <td>4.8</td>\n",
       "      <td>774</td>\n",
       "      <td>38.00</td>\n",
       "      <td>3</td>\n",
       "      <td>English</td>\n",
       "      <td>1963-09-13</td>\n",
       "    </tr>\n",
       "    <tr>\n",
       "      <th>4</th>\n",
       "      <td>Clean Code</td>\n",
       "      <td>Robert C. Martin</td>\n",
       "      <td>978-0-13235-088-4</td>\n",
       "      <td>2008-08-01</td>\n",
       "      <td>4.7</td>\n",
       "      <td>879</td>\n",
       "      <td>40.00</td>\n",
       "      <td>4</td>\n",
       "      <td>English</td>\n",
       "      <td>1947-10-16</td>\n",
       "    </tr>\n",
       "  </tbody>\n",
       "</table>\n",
       "</div>"
      ],
      "text/plain": [
       "                              title                   author  \\\n",
       "0         The Staff Engineer's Path             Tanya Reilly   \n",
       "1     Cracking the Coding Interview  Gayle Laakmann McDowell   \n",
       "2  Python Crash Course, 3rd Edition             Eric Matthes   \n",
       "3          The Pragmatic Programmer             David Thomas   \n",
       "4                        Clean Code         Robert C. Martin   \n",
       "\n",
       "              isbn13 publish_date  rating  review_count  price  author_ID  \\\n",
       "0  978-1-09811-873-0   2022-10-25     4.7           345  31.99          0   \n",
       "1  978-0-98478-285-7   2015-07-01     4.7            20  33.21          1   \n",
       "2  978-1-71850-270-3   2023-01-10     4.8           615  30.61          2   \n",
       "3  978-0-13595-705-9   2019-09-13     4.8           774  38.00          3   \n",
       "4  978-0-13235-088-4   2008-08-01     4.7           879  40.00          4   \n",
       "\n",
       "  language author_birthdate  \n",
       "0  English       1972-09-02  \n",
       "1  English       1962-04-05  \n",
       "2  English       1980-06-05  \n",
       "3  English       1963-09-13  \n",
       "4  English       1947-10-16  "
      ]
     },
     "execution_count": 2,
     "metadata": {},
     "output_type": "execute_result"
    }
   ],
   "source": [
    "import pandas as pd\n",
    "import numpy as np\n",
    "\n",
    "df = pd.read_csv('data/Amazon Books Data.csv')\n",
    "\n",
    "df.drop(columns=['Unnamed: 12',\n",
    "                'Unnamed: 13',\n",
    "                'Unnamed: 14',\n",
    "                'Unnamed: 15',\n",
    "                'Unnamed: 16',\n",
    "                'Unnamed: 17',\n",
    "                'Unnamed: 18',\n",
    "                'Unnamed: 19',\n",
    "                'Unnamed: 20',\n",
    "                'Unnamed: 21',\n",
    "                'Unnamed: 22',\n",
    "                'Unnamed: 23',\n",
    "                'Unnamed: 24',\n",
    "                'Unnamed: 25',\n",
    "                'isbn10',\n",
    "                'description',\n",
    "                'edition',\n",
    "                'best_seller',\n",
    "                'top_rated '\n",
    "                ], inplace=True)\n",
    "\n",
    "df = df[df['isbn13'].notna()]\n",
    "\n",
    "def reformat_isbn(isbn):\n",
    "    if '-' in isbn:\n",
    "        parts = isbn.split('-')\n",
    "        if len(parts[1]) == 10:\n",
    "            prefix = parts[0]\n",
    "            remaining = parts[1]\n",
    "            new_format = f\"{prefix}-{remaining[0]}-{remaining[1:6]}-{remaining[6:9]}-{remaining[9:]}\"\n",
    "            return new_format\n",
    "    return isbn\n",
    "\n",
    "df['isbn13'] = df['isbn13'].apply(reformat_isbn)\n",
    "df['author_ID'] = pd.factorize(df['author'])[0]\n",
    "df['language'] = 'English'\n",
    "\n",
    "def random_date(start, end):\n",
    "    start_u = start.value//10**9\n",
    "    end_u = end.value//10**9\n",
    "\n",
    "    random_u = np.random.randint(start_u, end_u)\n",
    "    return pd.to_datetime(random_u, unit='s').date()\n",
    "\n",
    "start = pd.to_datetime('1940-01-01')\n",
    "end = pd.to_datetime('1990-12-31')\n",
    "\n",
    "df['author_birthdate'] = [random_date(start, end).strftime('%Y-%m-%d') for _ in range(len(df))]\n",
    "\n",
    "df['rating'] = df['rating'].str.replace('$', '').astype(float)\n",
    "df['review_count'] = np.random.randint(0, 1000, len(df))\n",
    "df['price'] = df['price'].str.replace('$', '').astype(float)\n",
    "df['author_birthdate'] = pd.to_datetime(df['author_birthdate']).dt.date\n",
    "df['publish_date'] = pd.to_datetime(df['publish_date'], errors='coerce').dt.date\n",
    "df['publish_date'].replace({pd.NaT: pd.to_datetime('1999-09-09')}, inplace=True)\n",
    "df['publish_date'] = pd.to_datetime(df['publish_date']).dt.date\n",
    "\n",
    "df.head()"
   ]
  },
  {
   "cell_type": "code",
   "execution_count": 3,
   "metadata": {},
   "outputs": [],
   "source": [
    "df['isbn13'] = df[df['isbn13'].str.match(r'\\d+-\\d+-\\d+-\\d+-\\d+', na=False)]['isbn13']\n",
    "df = df.dropna(subset=['isbn13'])"
   ]
  },
  {
   "cell_type": "code",
   "execution_count": 4,
   "metadata": {},
   "outputs": [],
   "source": [
    "df.drop_duplicates(subset=['isbn13'], inplace=True)"
   ]
  },
  {
   "cell_type": "code",
   "execution_count": 9,
   "metadata": {},
   "outputs": [
    {
     "name": "stdout",
     "output_type": "stream",
     "text": [
      "<class 'pandas.core.frame.DataFrame'>\n",
      "Index: 419 entries, 0 to 466\n",
      "Data columns (total 10 columns):\n",
      " #   Column            Non-Null Count  Dtype  \n",
      "---  ------            --------------  -----  \n",
      " 0   title             419 non-null    object \n",
      " 1   author            418 non-null    object \n",
      " 2   isbn13            419 non-null    object \n",
      " 3   publish_date      419 non-null    object \n",
      " 4   rating            417 non-null    float64\n",
      " 5   review_count      419 non-null    int32  \n",
      " 6   price             418 non-null    float64\n",
      " 7   author_ID         419 non-null    int64  \n",
      " 8   language          419 non-null    object \n",
      " 9   author_birthdate  419 non-null    object \n",
      "dtypes: float64(2), int32(1), int64(1), object(6)\n",
      "memory usage: 34.4+ KB\n"
     ]
    }
   ],
   "source": [
    "df.info()"
   ]
  },
  {
   "cell_type": "markdown",
   "metadata": {},
   "source": [
    "Sätter in dataframen i vår sql databas"
   ]
  },
  {
   "cell_type": "code",
   "execution_count": 5,
   "metadata": {},
   "outputs": [
    {
     "data": {
      "text/plain": [
       "1"
      ]
     },
     "execution_count": 5,
     "metadata": {},
     "output_type": "execute_result"
    }
   ],
   "source": [
    "df.to_sql('RAWbooks', con=engine, if_exists='replace', index=False)"
   ]
  }
 ],
 "metadata": {
  "kernelspec": {
   "display_name": "DatabasesAI23-Isak-Andersson-OFuJx3bM",
   "language": "python",
   "name": "python3"
  },
  "language_info": {
   "codemirror_mode": {
    "name": "ipython",
    "version": 3
   },
   "file_extension": ".py",
   "mimetype": "text/x-python",
   "name": "python",
   "nbconvert_exporter": "python",
   "pygments_lexer": "ipython3",
   "version": "3.12.0"
  }
 },
 "nbformat": 4,
 "nbformat_minor": 2
}
