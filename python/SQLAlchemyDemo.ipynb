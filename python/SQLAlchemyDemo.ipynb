{
 "cells": [
  {
   "cell_type": "markdown",
   "metadata": {},
   "source": [
    "# Establishing a database connection\n",
    "\n",
    "### The Engine\n",
    "The start of any SQLAlchemy application is an object called the Engine. The engine is typically a global object created just once for a particular database server, and is configured using a URL string which will describe how it should connect to the database host or backend.\n",
    "\n",
    "The Engine is created using the create_engine() method.\n",
    "\n",
    "### The URL string\n",
    "The main argument to create_engine() is a URL string. This string indicates to the Engine three important facts:\n",
    "1. What kind of database are we communicating with? In our example we're using 'mssql' for Microsoft SQL Server.\n",
    "\n",
    "2. What DBAPI are we using? The Python DBAPI is a third party driver that SQLAlchemy uses to interact with a particular database. In this case, we’re using the name pyodbc, which is an open source Python module for accessing ODBC databases. (ODBC is a standard API for accessing databases.)\n",
    "\n",
    "3. How do we locate the database? In our case we need to specify the server and database name.\n",
    "\n",
    "### Getting a connection\n",
    "The sole purpose of the Engine object from a user-facing perspective is to provide a unit of connectivity to the database called the Connection. When working with the Core directly, the Connection object is how all interaction with the database is done. As the Connection represents an open resource against the database, we want to always limit the scope of our use of this object to a specific context, and the best way to do that is by using Python context manager form, also known as the with statement."
   ]
  },
  {
   "cell_type": "code",
   "execution_count": 4,
   "metadata": {},
   "outputs": [
    {
     "name": "stdout",
     "output_type": "stream",
     "text": [
      "Connecting to database using URL string:\n",
      "mssql+pyodbc://?odbc_connect=DRIVER=ODBC+Driver+17+for+SQL+Server;SERVER=localhost;DATABASE=everyloop;Trusted_Connection=yes \n",
      "\n",
      "Successfully connected to everyloop!\n"
     ]
    }
   ],
   "source": [
    "from sqlalchemy import create_engine\n",
    "from sqlalchemy.engine import URL\n",
    "from urllib.parse import unquote\n",
    "\n",
    "server_name   = \"localhost\"\n",
    "database_name = \"everyloop\"\n",
    "\n",
    "connection_string = f\"DRIVER=ODBC Driver 17 for SQL Server;SERVER={server_name};DATABASE={database_name};Trusted_Connection=yes\"\n",
    "url_string        = URL.create(\"mssql+pyodbc\", query={\"odbc_connect\": connection_string})\n",
    "\n",
    "print('Connecting to database using URL string:')\n",
    "unquoted_url = unquote(str(url_string))\n",
    "print(unquoted_url, '\\n')\n",
    "\n",
    "try:    \n",
    "    engine = create_engine(url_string)\n",
    "    with engine.connect() as connection:\n",
    "        print(f'Successfully connected to {database_name}!')\n",
    "except Exception as e:\n",
    "    print('Error while connecting to database:\\n')\n",
    "    print(e)"
   ]
  },
  {
   "cell_type": "markdown",
   "metadata": {},
   "source": [
    "# Query database using raw SQL\n",
    " The text() construct allows us to write SQL statements as textual SQL. Rest assured that textual SQL in day-to-day SQLAlchemy use is by far the exception rather than the rule for most tasks, even though it always remains fully available.\n",
    "\n",
    " Let's create a simple query to be used in the examples below:"
   ]
  },
  {
   "cell_type": "code",
   "execution_count": 5,
   "metadata": {},
   "outputs": [
    {
     "data": {
      "text/plain": [
       "sqlalchemy.sql.elements.TextClause"
      ]
     },
     "execution_count": 5,
     "metadata": {},
     "output_type": "execute_result"
    }
   ],
   "source": [
    "from sqlalchemy import text\n",
    "\n",
    "query = text(\"SELECT TOP 5 Id, FirstName, LastName, Email FROM USERS ORDER BY FirstName, LastName\")\n",
    "type(query)"
   ]
  },
  {
   "cell_type": "markdown",
   "metadata": {},
   "source": [
    "### The Result Object\n",
    "When passing our query to Connection.execute() SQLAlchemy will submit the query to the server, which will respond by sending back the requested data (The result set). This result set will be represented as a Result Object returned by Connection.execute() once it gets the response from the server.\n",
    "\n",
    "Note that it’s best practice to ensure that this object is consumed within the “connect” block, and is not passed along outside of the scope of our connection.\n",
    "\n",
    "Let's look at a few examples of how to consume the returned result set:\n",
    "\n",
    "### Execute query and fetch all rows from result"
   ]
  },
  {
   "cell_type": "code",
   "execution_count": 6,
   "metadata": {},
   "outputs": [
    {
     "name": "stdout",
     "output_type": "stream",
     "text": [
      "<sqlalchemy.engine.cursor.CursorResult object at 0x0000023CC9969470>\n",
      "<class 'sqlalchemy.engine.cursor.CursorResult'>\n",
      "<class 'list'>\n"
     ]
    }
   ],
   "source": [
    "with engine.connect() as conn:\n",
    "    result = conn.execute(query)\n",
    "\n",
    "    print(result)\n",
    "    print(type(result))\n",
    "    print(type(result.fetchall()))"
   ]
  },
  {
   "cell_type": "markdown",
   "metadata": {},
   "source": [
    "### Execute query and iterate through result"
   ]
  },
  {
   "cell_type": "code",
   "execution_count": 7,
   "metadata": {},
   "outputs": [
    {
     "name": "stdout",
     "output_type": "stream",
     "text": [
      "Alexander Dahl\n",
      "Alvin Lindholm\n",
      "Anders Hansson\n",
      "Anne Åkerman\n",
      "Annette Bergfalk\n"
     ]
    }
   ],
   "source": [
    "with engine.connect() as conn:\n",
    "    result = conn.execute(query)\n",
    "\n",
    "    for row in result:\n",
    "        print(f\"{row.FirstName} {row.LastName}\")"
   ]
  },
  {
   "cell_type": "markdown",
   "metadata": {},
   "source": [
    "### Iterate column names and fields"
   ]
  },
  {
   "cell_type": "code",
   "execution_count": 8,
   "metadata": {},
   "outputs": [
    {
     "name": "stdout",
     "output_type": "stream",
     "text": [
      "ID                  FIRSTNAME           LASTNAME            EMAIL               \n",
      "741109-2058         Alexander           Dahl                alexander.dahl@telia.se\n",
      "530720-7675         Alvin               Lindholm            alvin.lindholm@gmail.com\n",
      "820624-3075         Anders              Hansson             anders.hansson@hotmail.com\n",
      "751123-9724         Anne                Åkerman             anne.akerman@hotmail.com\n",
      "620925-4245         Annette             Bergfalk            annette.bergfalk@telia.se\n"
     ]
    }
   ],
   "source": [
    "with engine.connect() as conn:\n",
    "    result = conn.execute(query)\n",
    "\n",
    "    for column_name in result.keys():\n",
    "        print(column_name.upper().ljust(20), end='')\n",
    "    \n",
    "    print()\n",
    "\n",
    "    for row in result:\n",
    "        for field in row:\n",
    "            print(field.ljust(20), end='')\n",
    "        \n",
    "        print()"
   ]
  },
  {
   "cell_type": "markdown",
   "metadata": {},
   "source": [
    "### Create DataFrames from query result\n",
    "Pandas and SQLAlchemy are a match made in Python heaven. They're individually amongst Python's most frequently used libraries. Together they're greater than the sum of their parts, thanks to Pandas' built-in SQLAlchemy integration."
   ]
  },
  {
   "cell_type": "code",
   "execution_count": 9,
   "metadata": {},
   "outputs": [
    {
     "data": {
      "text/html": [
       "<div>\n",
       "<style scoped>\n",
       "    .dataframe tbody tr th:only-of-type {\n",
       "        vertical-align: middle;\n",
       "    }\n",
       "\n",
       "    .dataframe tbody tr th {\n",
       "        vertical-align: top;\n",
       "    }\n",
       "\n",
       "    .dataframe thead th {\n",
       "        text-align: right;\n",
       "    }\n",
       "</style>\n",
       "<table border=\"1\" class=\"dataframe\">\n",
       "  <thead>\n",
       "    <tr style=\"text-align: right;\">\n",
       "      <th></th>\n",
       "      <th>FirstName</th>\n",
       "      <th>LastName</th>\n",
       "      <th>Email</th>\n",
       "    </tr>\n",
       "    <tr>\n",
       "      <th>Id</th>\n",
       "      <th></th>\n",
       "      <th></th>\n",
       "      <th></th>\n",
       "    </tr>\n",
       "  </thead>\n",
       "  <tbody>\n",
       "    <tr>\n",
       "      <th>741109-2058</th>\n",
       "      <td>Alexander</td>\n",
       "      <td>Dahl</td>\n",
       "      <td>alexander.dahl@telia.se</td>\n",
       "    </tr>\n",
       "    <tr>\n",
       "      <th>530720-7675</th>\n",
       "      <td>Alvin</td>\n",
       "      <td>Lindholm</td>\n",
       "      <td>alvin.lindholm@gmail.com</td>\n",
       "    </tr>\n",
       "    <tr>\n",
       "      <th>820624-3075</th>\n",
       "      <td>Anders</td>\n",
       "      <td>Hansson</td>\n",
       "      <td>anders.hansson@hotmail.com</td>\n",
       "    </tr>\n",
       "    <tr>\n",
       "      <th>751123-9724</th>\n",
       "      <td>Anne</td>\n",
       "      <td>Åkerman</td>\n",
       "      <td>anne.akerman@hotmail.com</td>\n",
       "    </tr>\n",
       "    <tr>\n",
       "      <th>620925-4245</th>\n",
       "      <td>Annette</td>\n",
       "      <td>Bergfalk</td>\n",
       "      <td>annette.bergfalk@telia.se</td>\n",
       "    </tr>\n",
       "  </tbody>\n",
       "</table>\n",
       "</div>"
      ],
      "text/plain": [
       "             FirstName  LastName                       Email\n",
       "Id                                                          \n",
       "741109-2058  Alexander      Dahl     alexander.dahl@telia.se\n",
       "530720-7675      Alvin  Lindholm    alvin.lindholm@gmail.com\n",
       "820624-3075     Anders   Hansson  anders.hansson@hotmail.com\n",
       "751123-9724       Anne   Åkerman    anne.akerman@hotmail.com\n",
       "620925-4245    Annette  Bergfalk   annette.bergfalk@telia.se"
      ]
     },
     "execution_count": 9,
     "metadata": {},
     "output_type": "execute_result"
    }
   ],
   "source": [
    "import pandas as pd\n",
    "\n",
    "df = pd.read_sql_query(query, con=engine, index_col=\"Id\")\n",
    "\n",
    "df"
   ]
  },
  {
   "cell_type": "markdown",
   "metadata": {},
   "source": [
    "# Example search application (unsafe implementation)"
   ]
  },
  {
   "cell_type": "code",
   "execution_count": 10,
   "metadata": {},
   "outputs": [
    {
     "name": "stdout",
     "output_type": "stream",
     "text": [
      "Search string: arlanda\n",
      "\n",
      "IATA    Airport name                                      Location\n"
     ]
    }
   ],
   "source": [
    "search_string = input(\"Search airports: \")\n",
    "\n",
    "print(f\"Search string: {search_string}\\n\")\n",
    "\n",
    "unsafe_query = f\"\"\"\n",
    "select top 10\n",
    "    IATA, \n",
    "    [Airport name] as 'name', \n",
    "    [Location served] as 'location' \n",
    "from \n",
    "    airports \n",
    "where \n",
    "    [Location served] like '%{search_string}%'\"\"\"\n",
    "\n",
    "with engine.connect() as conn:    \n",
    "    result = conn.execute(text(unsafe_query))\n",
    "\n",
    "    print(f\"{'IATA'.ljust(8)}{'Airport name'.ljust(50)}{'Location'}\")\n",
    "    \n",
    "    for airport in result:\n",
    "        print(f\"{str(airport.IATA).ljust(8)}{str(airport.name).ljust(50)}{airport.location}\")\n",
    "\n",
    "    #print(unsafe_query, '\\n')\n"
   ]
  },
  {
   "cell_type": "markdown",
   "metadata": {},
   "source": [
    "### SQL injection\n",
    "SQL injection is a code injection technique used to attack data-driven applications, in which malicious SQL statements are inserted into an entry field for execution (e.g. to dump the database contents to the attacker). SQL injection is mostly known as an attack vector for websites but can be used to attack any type of SQL database. Even though this vulnerability is known for over 20 years, injections still rank number 3 in the OWASP's Top 10 for web vulnerabilities.\n",
    "\n",
    "Every programmer involved in the development of applications that makes use of relational databases **SHOULD** know about SQL injection, and how to prevent it. Bad implementations of database interfaces, like the one in the example above, leaves **ALL** your data open for an attack. **ANY** database operation that can be made in a tool like Mangagement Studio can also be made through a web form, or similar user input, using SQL injection.\n",
    "\n",
    "---\n",
    "\n",
    "### Concatenation and dynamic queries\n",
    "The problem with the code above is that it creates a dynamic query by concatenating user inputed data together with predefined SQL. This gives the end-user, not the developer, the final say of what query we send to our DBMS. Consider the example below:\n",
    "\n",
    "The developer wants the user to be able to provide their name using a web form in order to do a database lookup for information about the user. The developer may think that concatenating the username into the query string before sending the request to the DBMS will solve the problem.\n",
    "\n",
    "`query = \"select * from users where username = '\" + username_input + \"';\"`\n",
    "\n",
    "This do solve the problem. If the user enters a valid name, the query string may look like this:\n",
    "\n",
    "`select * from users where username = 'Fredrik';`\n",
    "\n",
    "But what if the user enters the string '; drop database; -- instead? The query string will then look like this:\n",
    "\n",
    "`select * from users where username = ''; drop database; --'`\n",
    "\n",
    "As the application goes on and submits the query it will issue TWO statements to the DBMS: The first will return any row from Users where username is an empty string. The second will delete the database. The two dashes (--) at the end is a line comment to make sure any text after the seccond statement (in this case the ' at the end) is ignored and doesn't cause the query to be invalid.\n",
    "\n",
    "**YOU MUST NEVER ALLOW USER INPUT IN ANY PART OF YOUR QUERIES!**\n",
    "\n",
    "---\n",
    "\n",
    "### Parameterized queries\n",
    "The DBMS is built to be able to recieve the SQL statement and the user data seperatly. This is done by writting SQL using parameters. \n",
    "\n",
    "Here is an example of what that would look like in T-SQL:\n",
    "\n",
    "`Select * from users where username = @username_input;`\n",
    "\n",
    "Now we have a static SQL statment that can be sent to the server coupled with the value of the @username_input parameter. This way, the user can't modify the query itself, and we can be assured that the server interprets the query as we intended.\n",
    "\n",
    "**USER DATA IN QUERIES SHOULD ALWAYS BE PARAMETERIZED!**\n",
    "\n",
    "---\n",
    "\n",
    "### Bound parameters in SQLAlchemy\n",
    "\n",
    "SQLAlchemy's text() construct allows us to bind parameters using the named colon format (:param). This format is consistent regardless of database backend. To send values in for the parameters, we pass them into the Connection.execute() method as additional arguments.\n",
    "\n",
    "In the example below we use the bound parameter *:first_name* in the query, and then pass in the value of the python variable *name* when executing the query."
   ]
  },
  {
   "cell_type": "code",
   "execution_count": 11,
   "metadata": {},
   "outputs": [
    {
     "name": "stdout",
     "output_type": "stream",
     "text": [
      "[('571110-3843', 'frieri', '7a981e17886344fb031e3735a7284b8c', 'Frida', 'Ericson', 'frida.ericson@hotmail.com', '0702-8579941')]\n"
     ]
    }
   ],
   "source": [
    "name = \"Frida\"\n",
    "\n",
    "parameterized_query = text(\"Select * from Users where FirstName like '%' + :first_name + '%'\")\n",
    "\n",
    "with engine.connect() as conn:    \n",
    "    result = conn.execute(parameterized_query, {\"first_name\": name})\n",
    "    print(result.fetchall())"
   ]
  },
  {
   "cell_type": "markdown",
   "metadata": {},
   "source": [
    "### Exercise\n",
    "Fix the airport search application above, and make it invulnerable to SQL injection attacks.\n",
    "\n",
    "For testing, you may try the search string: ';--\n",
    "\n",
    "This string will select **ALL** rows in the unfixed version off the app.\n",
    "\n",
    "When secured it should select **NO** rows, as no airport location contains the string: ';--"
   ]
  }
 ],
 "metadata": {
  "interpreter": {
   "hash": "20a7226863652f8ba572b8157b0b6305f423aae4f16ee7c5077a4756a16dc3cf"
  },
  "kernelspec": {
   "display_name": "Python 3.9.0 ('Learning_Python-3NYKqp0N')",
   "language": "python",
   "name": "python3"
  },
  "language_info": {
   "codemirror_mode": {
    "name": "ipython",
    "version": 3
   },
   "file_extension": ".py",
   "mimetype": "text/x-python",
   "name": "python",
   "nbconvert_exporter": "python",
   "pygments_lexer": "ipython3",
   "version": "3.12.0"
  },
  "orig_nbformat": 4
 },
 "nbformat": 4,
 "nbformat_minor": 2
}
